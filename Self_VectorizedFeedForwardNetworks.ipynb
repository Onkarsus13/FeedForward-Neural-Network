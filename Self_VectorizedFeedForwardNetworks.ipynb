{
  "nbformat": 4,
  "nbformat_minor": 0,
  "metadata": {
    "colab": {
      "name": "Self VectorizedFeedForwardNetworks",
      "provenance": [],
      "collapsed_sections": [
        "_QOguGzvbawG",
        "fBNjK3zJd6jb",
        "jZ0Y_izSexcj",
        "BX5NzXnPhmXi",
        "WGswJ3eHs6dU",
        "ZPTJYucDs_dw",
        "888o4jP1i84A"
      ]
    },
    "kernelspec": {
      "name": "python3",
      "display_name": "Python 3"
    },
    "widgets": {
      "application/vnd.jupyter.widget-state+json": {
        "b1d3be73b4ac41248bad34637231869d": {
          "model_module": "@jupyter-widgets/controls",
          "model_name": "HBoxModel",
          "state": {
            "_view_name": "HBoxView",
            "_dom_classes": [],
            "_model_name": "HBoxModel",
            "_view_module": "@jupyter-widgets/controls",
            "_model_module_version": "1.5.0",
            "_view_count": null,
            "_view_module_version": "1.5.0",
            "box_style": "",
            "layout": "IPY_MODEL_e34f72871b3949e1b91ef99ba5bc7b4c",
            "_model_module": "@jupyter-widgets/controls",
            "children": [
              "IPY_MODEL_7a63af5aa2a449f99288e829e22046d8",
              "IPY_MODEL_995021e6d1e941fdb65af715ac743edf"
            ]
          }
        },
        "e34f72871b3949e1b91ef99ba5bc7b4c": {
          "model_module": "@jupyter-widgets/base",
          "model_name": "LayoutModel",
          "state": {
            "_view_name": "LayoutView",
            "grid_template_rows": null,
            "right": null,
            "justify_content": null,
            "_view_module": "@jupyter-widgets/base",
            "overflow": null,
            "_model_module_version": "1.2.0",
            "_view_count": null,
            "flex_flow": null,
            "width": null,
            "min_width": null,
            "border": null,
            "align_items": null,
            "bottom": null,
            "_model_module": "@jupyter-widgets/base",
            "top": null,
            "grid_column": null,
            "overflow_y": null,
            "overflow_x": null,
            "grid_auto_flow": null,
            "grid_area": null,
            "grid_template_columns": null,
            "flex": null,
            "_model_name": "LayoutModel",
            "justify_items": null,
            "grid_row": null,
            "max_height": null,
            "align_content": null,
            "visibility": null,
            "align_self": null,
            "height": null,
            "min_height": null,
            "padding": null,
            "grid_auto_rows": null,
            "grid_gap": null,
            "max_width": null,
            "order": null,
            "_view_module_version": "1.2.0",
            "grid_template_areas": null,
            "object_position": null,
            "object_fit": null,
            "grid_auto_columns": null,
            "margin": null,
            "display": null,
            "left": null
          }
        },
        "7a63af5aa2a449f99288e829e22046d8": {
          "model_module": "@jupyter-widgets/controls",
          "model_name": "FloatProgressModel",
          "state": {
            "_view_name": "ProgressView",
            "style": "IPY_MODEL_b25656aac4164eee940b278a2651a0ce",
            "_dom_classes": [],
            "description": "100%",
            "_model_name": "FloatProgressModel",
            "bar_style": "success",
            "max": 2000,
            "_view_module": "@jupyter-widgets/controls",
            "_model_module_version": "1.5.0",
            "value": 2000,
            "_view_count": null,
            "_view_module_version": "1.5.0",
            "orientation": "horizontal",
            "min": 0,
            "description_tooltip": null,
            "_model_module": "@jupyter-widgets/controls",
            "layout": "IPY_MODEL_1aa443ccaca742a48d741641efd8520c"
          }
        },
        "995021e6d1e941fdb65af715ac743edf": {
          "model_module": "@jupyter-widgets/controls",
          "model_name": "HTMLModel",
          "state": {
            "_view_name": "HTMLView",
            "style": "IPY_MODEL_a0b4c82347494bdfa653282b287d03c4",
            "_dom_classes": [],
            "description": "",
            "_model_name": "HTMLModel",
            "placeholder": "​",
            "_view_module": "@jupyter-widgets/controls",
            "_model_module_version": "1.5.0",
            "value": " 2000/2000 [00:28&lt;00:00, 68.99epoch/s]",
            "_view_count": null,
            "_view_module_version": "1.5.0",
            "description_tooltip": null,
            "_model_module": "@jupyter-widgets/controls",
            "layout": "IPY_MODEL_4be5251035144b54801214f2abc7ffd4"
          }
        },
        "b25656aac4164eee940b278a2651a0ce": {
          "model_module": "@jupyter-widgets/controls",
          "model_name": "ProgressStyleModel",
          "state": {
            "_view_name": "StyleView",
            "_model_name": "ProgressStyleModel",
            "description_width": "initial",
            "_view_module": "@jupyter-widgets/base",
            "_model_module_version": "1.5.0",
            "_view_count": null,
            "_view_module_version": "1.2.0",
            "bar_color": null,
            "_model_module": "@jupyter-widgets/controls"
          }
        },
        "1aa443ccaca742a48d741641efd8520c": {
          "model_module": "@jupyter-widgets/base",
          "model_name": "LayoutModel",
          "state": {
            "_view_name": "LayoutView",
            "grid_template_rows": null,
            "right": null,
            "justify_content": null,
            "_view_module": "@jupyter-widgets/base",
            "overflow": null,
            "_model_module_version": "1.2.0",
            "_view_count": null,
            "flex_flow": null,
            "width": null,
            "min_width": null,
            "border": null,
            "align_items": null,
            "bottom": null,
            "_model_module": "@jupyter-widgets/base",
            "top": null,
            "grid_column": null,
            "overflow_y": null,
            "overflow_x": null,
            "grid_auto_flow": null,
            "grid_area": null,
            "grid_template_columns": null,
            "flex": null,
            "_model_name": "LayoutModel",
            "justify_items": null,
            "grid_row": null,
            "max_height": null,
            "align_content": null,
            "visibility": null,
            "align_self": null,
            "height": null,
            "min_height": null,
            "padding": null,
            "grid_auto_rows": null,
            "grid_gap": null,
            "max_width": null,
            "order": null,
            "_view_module_version": "1.2.0",
            "grid_template_areas": null,
            "object_position": null,
            "object_fit": null,
            "grid_auto_columns": null,
            "margin": null,
            "display": null,
            "left": null
          }
        },
        "a0b4c82347494bdfa653282b287d03c4": {
          "model_module": "@jupyter-widgets/controls",
          "model_name": "DescriptionStyleModel",
          "state": {
            "_view_name": "StyleView",
            "_model_name": "DescriptionStyleModel",
            "description_width": "",
            "_view_module": "@jupyter-widgets/base",
            "_model_module_version": "1.5.0",
            "_view_count": null,
            "_view_module_version": "1.2.0",
            "_model_module": "@jupyter-widgets/controls"
          }
        },
        "4be5251035144b54801214f2abc7ffd4": {
          "model_module": "@jupyter-widgets/base",
          "model_name": "LayoutModel",
          "state": {
            "_view_name": "LayoutView",
            "grid_template_rows": null,
            "right": null,
            "justify_content": null,
            "_view_module": "@jupyter-widgets/base",
            "overflow": null,
            "_model_module_version": "1.2.0",
            "_view_count": null,
            "flex_flow": null,
            "width": null,
            "min_width": null,
            "border": null,
            "align_items": null,
            "bottom": null,
            "_model_module": "@jupyter-widgets/base",
            "top": null,
            "grid_column": null,
            "overflow_y": null,
            "overflow_x": null,
            "grid_auto_flow": null,
            "grid_area": null,
            "grid_template_columns": null,
            "flex": null,
            "_model_name": "LayoutModel",
            "justify_items": null,
            "grid_row": null,
            "max_height": null,
            "align_content": null,
            "visibility": null,
            "align_self": null,
            "height": null,
            "min_height": null,
            "padding": null,
            "grid_auto_rows": null,
            "grid_gap": null,
            "max_width": null,
            "order": null,
            "_view_module_version": "1.2.0",
            "grid_template_areas": null,
            "object_position": null,
            "object_fit": null,
            "grid_auto_columns": null,
            "margin": null,
            "display": null,
            "left": null
          }
        }
      }
    },
    "accelerator": "GPU"
  },
  "cells": [
    {
      "cell_type": "markdown",
      "metadata": {
        "id": "_QOguGzvbawG",
        "colab_type": "text"
      },
      "source": [
        "# Setup"
      ]
    },
    {
      "cell_type": "code",
      "metadata": {
        "id": "aEak0n_mbckF",
        "colab_type": "code",
        "colab": {
          "base_uri": "https://localhost:8080/",
          "height": 71
        },
        "outputId": "9bb2d948-3abd-4b00-f933-16652ab16669"
      },
      "source": [
        "import numpy as np\n",
        "import matplotlib.pyplot as plt\n",
        "import matplotlib.colors\n",
        "import pandas as pd\n",
        "from sklearn.model_selection import train_test_split\n",
        "from sklearn.metrics import accuracy_score, mean_squared_error, log_loss\n",
        "from tqdm import tqdm_notebook \n",
        "import seaborn as sns\n",
        "import imageio\n",
        "import time\n",
        "from IPython.display import HTML\n",
        "from sklearn.preprocessing import OneHotEncoder\n",
        "from sklearn.datasets import make_blobs\n",
        "import torch\n",
        "import torch.nn.functional as F\n",
        "import torch.nn as nn\n",
        "from torch import optim\n",
        "import warnings\n",
        "warnings.filterwarnings('ignore')"
      ],
      "execution_count": null,
      "outputs": [
        {
          "output_type": "stream",
          "text": [
            "/usr/local/lib/python3.6/dist-packages/statsmodels/tools/_testing.py:19: FutureWarning: pandas.util.testing is deprecated. Use the functions in the public API at pandas.testing instead.\n",
            "  import pandas.util.testing as tm\n"
          ],
          "name": "stderr"
        }
      ]
    },
    {
      "cell_type": "code",
      "metadata": {
        "id": "pk575ntTb95E",
        "colab_type": "code",
        "colab": {}
      },
      "source": [
        "torch.manual_seed(0)\n",
        "my_cmap = matplotlib.colors.LinearSegmentedColormap.from_list(\"\", [\"red\",\"yellow\",\"green\"])"
      ],
      "execution_count": null,
      "outputs": []
    },
    {
      "cell_type": "markdown",
      "metadata": {
        "id": "fBNjK3zJd6jb",
        "colab_type": "text"
      },
      "source": [
        "#Generate Data"
      ]
    },
    {
      "cell_type": "code",
      "metadata": {
        "id": "qA91fcY6d5No",
        "colab_type": "code",
        "colab": {
          "base_uri": "https://localhost:8080/",
          "height": 34
        },
        "outputId": "1b5e1e25-23e7-465a-ba76-a1fec61ad1cd"
      },
      "source": [
        "data, labels = make_blobs(n_samples=1000, centers=4, n_features=2, random_state=0)\n",
        "print(data.shape, labels.shape)"
      ],
      "execution_count": null,
      "outputs": [
        {
          "output_type": "stream",
          "text": [
            "(1000, 2) (1000,)\n"
          ],
          "name": "stdout"
        }
      ]
    },
    {
      "cell_type": "code",
      "metadata": {
        "id": "BBuNgqiLeb_W",
        "colab_type": "code",
        "colab": {
          "base_uri": "https://localhost:8080/",
          "height": 265
        },
        "outputId": "aad61b26-e9ea-4a8d-8a52-d1c3495d5459"
      },
      "source": [
        "plt.scatter(data[:,0],data[:,1], c=labels,cmap=my_cmap)\n",
        "plt.show()"
      ],
      "execution_count": null,
      "outputs": [
        {
          "output_type": "display_data",
          "data": {
            "image/png": "[encoded data removed]",
            "text/plain": [
              "<Figure size 432x288 with 1 Axes>"
            ]
          },
          "metadata": {
            "tags": [],
            "needs_background": "light"
          }
        }
      ]
    },
    {
      "cell_type": "markdown",
      "metadata": {
        "id": "nSjgoZjeDV-E",
        "colab_type": "text"
      },
      "source": [
        ""
      ]
    },
    {
      "cell_type": "code",
      "metadata": {
        "id": "V6xyif3ReimJ",
        "colab_type": "code",
        "colab": {}
      },
      "source": [
        "\n",
        "labels_orig = labels\n",
        "labels = np.mod(labels_orig, 2)"
      ],
      "execution_count": null,
      "outputs": []
    },
    {
      "cell_type": "code",
      "metadata": {
        "id": "DEJba_mIemMp",
        "colab_type": "code",
        "colab": {
          "base_uri": "https://localhost:8080/",
          "height": 265
        },
        "outputId": "b55aecca-e24f-42af-859b-7a077b4c1be4"
      },
      "source": [
        "plt.scatter(data[:,0],data[:,1], c=labels,cmap=my_cmap)\n",
        "plt.show()"
      ],
      "execution_count": null,
      "outputs": [
        {
          "output_type": "display_data",
          "data": {
            "image/png": "[encoded data removed]",
            "text/plain": [
              "<Figure size 432x288 with 1 Axes>"
            ]
          },
          "metadata": {
            "tags": [],
            "needs_background": "light"
          }
        }
      ]
    },
    {
      "cell_type": "code",
      "metadata": {
        "id": "WXb9Dbkkb5HU",
        "colab_type": "code",
        "colab": {}
      },
      "source": [
        "X_train, X_val, Y_train, Y_val = train_test_split(data, labels_orig, stratify=labels_orig, random_state=0)\n",
        "print(X_train.shape, X_val.shape, Y_train.shape,Y_val.shape, labels_orig.shape)"
      ],
      "execution_count": null,
      "outputs": []
    },
    {
      "cell_type": "code",
      "metadata": {
        "id": "p9Ha6pXrcFzC",
        "colab_type": "code",
        "colab": {}
      },
      "source": [
        "enc = OneHotEncoder()\n",
        "y_OH_train = enc.fit_transform(np.expand_dims(Y_train,1)).toarray()\n",
        "y_OH_val = enc.fit_transform(np.expand_dims(Y_val,1)).toarray()\n",
        "print(y_OH_train.shape, y_OH_val.shape)\n"
      ],
      "execution_count": null,
      "outputs": []
    },
    {
      "cell_type": "markdown",
      "metadata": {
        "id": "jZ0Y_izSexcj",
        "colab_type": "text"
      },
      "source": [
        "#Multiclass Classification"
      ]
    },
    {
      "cell_type": "code",
      "metadata": {
        "id": "edWb0rgNnsq_",
        "colab_type": "code",
        "colab": {}
      },
      "source": [
        "X_train,Y_train,X_val_torch ,Y_val_torch = map(torch.tensor , (X_train , Y_train , X_val, Y_val))\n"
      ],
      "execution_count": null,
      "outputs": []
    },
    {
      "cell_type": "code",
      "metadata": {
        "id": "tSOftVRKpH52",
        "colab_type": "code",
        "colab": {
          "base_uri": "https://localhost:8080/",
          "height": 35
        },
        "outputId": "6985b0c1-6126-4ccb-91ae-709393bb14bc"
      },
      "source": [
        "print(X_train.shape)"
      ],
      "execution_count": null,
      "outputs": [
        {
          "output_type": "stream",
          "text": [
            "(750, 2)\n"
          ],
          "name": "stdout"
        }
      ]
    },
    {
      "cell_type": "code",
      "metadata": {
        "id": "0J1O7zIWhKAu",
        "colab_type": "code",
        "colab": {
          "base_uri": "https://localhost:8080/",
          "height": 87
        },
        "outputId": "1aa13f60-3d72-4372-9bed-431a34211192"
      },
      "source": [
        "W1 = np.random.randn(2,2)\n",
        "W2= np.random.randn(2,4)\n",
        "print(W1)\n",
        "print(W2)"
      ],
      "execution_count": null,
      "outputs": [
        {
          "output_type": "stream",
          "text": [
            "[[-2.04520284 -1.28726961]\n",
            " [-0.8573579  -0.99954115]]\n",
            "[[-0.59943209  0.58471423  1.74746766 -0.03036505]\n",
            " [ 1.45095614  1.04103556 -0.85714767  1.22533541]]\n"
          ],
          "name": "stdout"
        }
      ]
    },
    {
      "cell_type": "markdown",
      "metadata": {
        "id": "BX5NzXnPhmXi",
        "colab_type": "text"
      },
      "source": [
        "#Scalar Version"
      ]
    },
    {
      "cell_type": "code",
      "metadata": {
        "id": "_G-H0sz2hbT-",
        "colab_type": "code",
        "colab": {}
      },
      "source": [
        "class FF_MultiClass_Scalar:\n",
        "  \n",
        "  def __init__(self, W1, W2):\n",
        "    self.w1 = W1[0][0].copy()\n",
        "    self.w2 = W1[1][0].copy()\n",
        "    self.w3 = W1[0][1].copy()\n",
        "    self.w4 = W1[1][1].copy()\n",
        "    self.w5 = W2[0][0].copy()\n",
        "    self.w6 = W2[1][0].copy()\n",
        "    self.w7 = W2[0][1].copy()\n",
        "    self.w8 = W2[1][1].copy()\n",
        "    self.w9 = W2[0][2].copy()\n",
        "    self.w10 = W2[1][2].copy()\n",
        "    self.w11 = W2[0][3].copy()\n",
        "    self.w12 = W2[1][3].copy()\n",
        "    self.b1 = 0\n",
        "    self.b2 = 0\n",
        "    self.b3 = 0\n",
        "    self.b4 = 0\n",
        "    self.b5 = 0\n",
        "    self.b6 = 0\n",
        "  \n",
        "  def sigmoid(self, x):\n",
        "    return 1.0/(1.0 + np.exp(-x))\n",
        "  \n",
        "  def forward_pass(self, x):\n",
        "    # input layer\n",
        "    self.x1, self.x2 = x\n",
        "    \n",
        "    # hidden layer\n",
        "    self.a1 = self.w1*self.x1 + self.w2*self.x2 + self.b1\n",
        "    self.h1 = self.sigmoid(self.a1)\n",
        "    self.a2 = self.w3*self.x1 + self.w4*self.x2 + self.b2\n",
        "    self.h2 = self.sigmoid(self.a2)\n",
        "    \n",
        "    # output layer\n",
        "    self.a3 = self.w5*self.h1 + self.w6*self.h2 + self.b3\n",
        "    self.a4 = self.w7*self.h1 + self.w8*self.h2 + self.b4\n",
        "    self.a5 = self.w9*self.h1 + self.w10*self.h2 + self.b5\n",
        "    self.a6 = self.w11*self.h1 + self.w12*self.h2 + self.b5\n",
        "    sum_exps = np.sum([np.exp(self.a3), np.exp(self.a4), np.exp(self.a5), np.exp(self.a6)])\n",
        "    self.h3 = np.exp(self.a3)/sum_exps\n",
        "    self.h4 = np.exp(self.a4)/sum_exps\n",
        "    self.h5 = np.exp(self.a5)/sum_exps\n",
        "    self.h6 = np.exp(self.a6)/sum_exps\n",
        "    \n",
        "    return np.array([self.h3, self.h4, self.h5, self.h6])\n",
        "  \n",
        "  def grad(self, x, y):\n",
        "    self.forward_pass(x)\n",
        "    self.y1, self.y2, self.y3, self.y4 = y\n",
        "    \n",
        "    self.da3 = (self.h3-self.y1)\n",
        "    self.da4 = (self.h4-self.y2)\n",
        "    self.da5 = (self.h5-self.y3)\n",
        "    self.da6 = (self.h6-self.y4)\n",
        "    \n",
        "    self.dw5 = self.da3*self.h1\n",
        "    self.dw6 = self.da3*self.h2\n",
        "    self.db3 = self.da3\n",
        "    \n",
        "    self.dw7 = self.da4*self.h1\n",
        "    self.dw8 = self.da4*self.h2\n",
        "    self.db4 = self.da4\n",
        "    \n",
        "    self.dw9 = self.da5*self.h1\n",
        "    self.dw10 = self.da5*self.h2\n",
        "    self.db5 = self.da5\n",
        "    \n",
        "    self.dw11 = self.da6*self.h1\n",
        "    self.dw12 = self.da6*self.h2\n",
        "    self.db6 = self.da6\n",
        "    \n",
        "    self.dh1 = self.da3*self.w5 + self.da4*self.w7 + self.da5*self.w9 + self.da6*self.w11\n",
        "    self.dh2 = self.da3*self.w6 + self.da4*self.w8 + self.da5*self.w10 + self.da6*self.w12\n",
        "    \n",
        "    self.da1 = self.dh1 * self.h1*(1-self.h1)\n",
        "    self.da2 = self.dh2 * self.h2*(1-self.h2)\n",
        "    \n",
        "    self.dw1 = self.da1*self.x1\n",
        "    self.dw2 = self.da1*self.x2\n",
        "    self.db1 = self.da1\n",
        "    \n",
        "    self.dw3 = self.da2*self.x1\n",
        "    self.dw4 = self.da2*self.x2\n",
        "    self.db2 = self.da2\n",
        "    \n",
        "  \n",
        "  def fit(self, X, Y, epochs=1, learning_rate=1, display_loss=False, display_weight=False):\n",
        "      \n",
        "    if display_loss:\n",
        "      loss = {}\n",
        "    \n",
        "    for i in tqdm_notebook(range(epochs), total=epochs, unit=\"epoch\"):\n",
        "      dw1, dw2, dw3, dw4, dw5, dw6, dw7, dw8, dw9, dw10, dw11, dw12, db1, db2, db3, db4, db5, db6  = [0]*18\n",
        "      for x, y in zip(X, Y):\n",
        "        self.grad(x, y)\n",
        "        dw1 += self.dw1\n",
        "        dw2 += self.dw2\n",
        "        dw3 += self.dw3\n",
        "        dw4 += self.dw4\n",
        "        dw5 += self.dw5\n",
        "        dw6 += self.dw6\n",
        "        dw7 += self.dw7\n",
        "        dw8 += self.dw8\n",
        "        dw9 += self.dw9\n",
        "        dw10 += self.dw10\n",
        "        dw11 += self.dw11\n",
        "        dw12 += self.dw12\n",
        "        db1 += self.db1\n",
        "        db2 += self.db2\n",
        "        db3 += self.db3\n",
        "        db4 += self.db4\n",
        "        db2 += self.db5\n",
        "        db3 += self.db6\n",
        "        \n",
        "      m = X.shape[0]\n",
        "      self.w1 -= (learning_rate * (dw1 / m))\n",
        "      self.w2 -= (learning_rate * (dw2 / m))\n",
        "      self.w3 -= (learning_rate * (dw3 / m))\n",
        "      self.w4 -= (learning_rate * (dw4 / m))\n",
        "      self.w5 -= (learning_rate * (dw5 / m))\n",
        "      self.w6 -= (learning_rate * (dw6 / m))\n",
        "      self.w7 -= (learning_rate * (dw7 / m))\n",
        "      self.w8 -= (learning_rate * (dw8 / m))\n",
        "      self.w9 -= (learning_rate * (dw9 / m))\n",
        "      self.w10 -= (learning_rate * (dw10 / m))\n",
        "      self.w11 -= (learning_rate * (dw11 / m))\n",
        "      self.w12 -= (learning_rate * (dw12 / m))\n",
        "      self.b1 -= (learning_rate * (db1 / m))\n",
        "      self.b2 -= (learning_rate * (db2 / m))\n",
        "      self.b3 -= (learning_rate * (db3 / m))\n",
        "      self.b4 -= (learning_rate * (db4 / m))\n",
        "      self.b5 -= (learning_rate * (db5 / m))\n",
        "      self.b6 -= (learning_rate * (db6 / m))\n",
        "      \n",
        "      if display_loss:\n",
        "        Y_pred = self.predict(X)\n",
        "        loss[i] = log_loss(np.argmax(Y, axis=1), Y_pred)\n",
        "    \n",
        "    if display_loss:\n",
        "      Wt1 = [[self.w1, self.w3], [self.w2, self.w4]]\n",
        "      Wt2 = [[self.w5, self.w6, self.w7, self.w8], [self.w9, self.w10, self.w11, self.w12]]\n",
        "      #print(loss.values())\n",
        "      plt.plot(list(loss.values()))\n",
        "      plt.xlabel('Epochs')\n",
        "      plt.ylabel('Log Loss')\n",
        "      plt.show()\n",
        "      \n",
        "  def predict(self, X):\n",
        "    Y_pred = []\n",
        "    for x in X:\n",
        "      y_pred = self.forward_pass(x)\n",
        "      Y_pred.append(y_pred)\n",
        "    return np.array(Y_pred)"
      ],
      "execution_count": null,
      "outputs": []
    },
    {
      "cell_type": "markdown",
      "metadata": {
        "id": "WGswJ3eHs6dU",
        "colab_type": "text"
      },
      "source": [
        "#Weighted Vectorized Version"
      ]
    },
    {
      "cell_type": "code",
      "metadata": {
        "id": "n2pfPkGSxbGS",
        "colab_type": "code",
        "colab": {}
      },
      "source": [
        "class FF_MultiClass_WeightVectorised:\n",
        "  \n",
        "  def __init__(self, W1, W2):\n",
        "    self.W1 = W1.copy()\n",
        "    self.W2 = W2.copy()\n",
        "    self.B1 = np.zeros((1,2))\n",
        "    self.B2 = np.zeros((1,4))\n",
        "  \n",
        "  def sigmoid(self, x):\n",
        "    return 1.0/(1.0 + np.exp(-x))\n",
        "  \n",
        "  def softmax(self, x):\n",
        "    exps = np.exp(x)\n",
        "    return exps / np.sum(exps)\n",
        "  \n",
        "  def forward_pass(self, x):\n",
        "    x = x.reshape(1, -1) # (1, 2)\n",
        "    self.A1 = np.matmul(x,self.W1) + self.B1  # (1, 2) * (2, 2) -> (1, 2)\n",
        "    self.H1 = self.sigmoid(self.A1) # (1, 2)\n",
        "    self.A2 = np.matmul(self.H1, self.W2) + self.B2 # (1, 2) * (2, 4) -> (1, 4) \n",
        "    self.H2 = self.softmax(self.A2) # (1, 4)\n",
        "    return self.H2\n",
        "    \n",
        "  def grad_sigmoid(self, x):\n",
        "    return x*(1-x) \n",
        "  \n",
        "  def grad(self, x, y):\n",
        "    self.forward_pass(x)\n",
        "    x = x.reshape(1, -1) # (1, 2)\n",
        "    y = y.reshape(1, -1) # (1, 4)\n",
        "    \n",
        "    self.dA2 = self.H2 - y # (1, 4) \n",
        "    \n",
        "    self.dW2 = np.matmul(self.H1.T, self.dA2) # (2, 1) * (1, 4) -> (2, 4)\n",
        "    self.dB2 = self.dA2 # (1, 4)\n",
        "    self.dH1 = np.matmul(self.dA2, self.W2.T) # (1, 4) * (4, 2) -> (1, 2)\n",
        "    self.dA1 = np.multiply(self.dH1, self.grad_sigmoid(self.H1)) # -> (1, 2)\n",
        "    \n",
        "    self.dW1 = np.matmul(x.T, self.dA1) # (2, 1) * (1, 2) -> (2, 2)\n",
        "    self.dB1 = self.dA1 # (1, 2)\n",
        "    \n",
        "  def fit(self, X, Y, epochs=1, learning_rate=1, display_loss=False):\n",
        "      \n",
        "    if display_loss:\n",
        "      loss = {}\n",
        "    \n",
        "    for i in tqdm_notebook(range(epochs), total=epochs, unit=\"epoch\"):\n",
        "      dW1 = np.zeros((2,2)) \n",
        "      dW2 = np.zeros((2,4))\n",
        "      dB1 = np.zeros((1,2))\n",
        "      dB2 = np.zeros((1,4))\n",
        "      for x, y in zip(X, Y):\n",
        "        self.grad(x, y)\n",
        "        dW1 += self.dW1\n",
        "        dW2 += self.dW2\n",
        "        dB1 += self.dB1\n",
        "        dB2 += self.dB2  \n",
        "        \n",
        "      m = X.shape[0]\n",
        "      self.W2 -= learning_rate * (dW2/m)\n",
        "      self.B2 -= learning_rate * (dB2/m)\n",
        "      self.W1 -= learning_rate * (dW1/m)\n",
        "      self.B1 -= learning_rate * (dB1/m)\n",
        " \n",
        "      if display_loss:\n",
        "        Y_pred = self.predict(X)\n",
        "        loss[i] = log_loss(np.argmax(Y, axis=1), Y_pred)\n",
        "        \n",
        "    \n",
        "    if display_loss:\n",
        "      plt.plot(list(loss.values()))\n",
        "      plt.xlabel('Epochs')\n",
        "      plt.ylabel('Log Loss')\n",
        "      plt.show()\n",
        "      \n",
        "  def predict(self, X):\n",
        "    Y_pred = []\n",
        "    for x in X:\n",
        "      y_pred = self.forward_pass(x)\n",
        "      Y_pred.append(y_pred)\n",
        "    return np.array(Y_pred).squeeze()"
      ],
      "execution_count": null,
      "outputs": []
    },
    {
      "cell_type": "markdown",
      "metadata": {
        "id": "ZPTJYucDs_dw",
        "colab_type": "text"
      },
      "source": [
        "#Input + Weight Vectorised Version\n"
      ]
    },
    {
      "cell_type": "code",
      "metadata": {
        "id": "4OaE7Vfu4oe5",
        "colab_type": "code",
        "colab": {}
      },
      "source": [
        "class FF_MultiClass_InputWeightVectorised:\n",
        "  \n",
        "  def __init__(self,activation_fun = 'random'):\n",
        "    self.W1 = np.random.randn(2,64)\n",
        "    self.W2 = np.random.randn(64,128)o\n",
        "    self.W3 = np.random.randn(128,4)\n",
        "    self.B1 = np.zeros((1,64))\n",
        "    self.B2 = np.zeros((1,128))\n",
        "    self.B3 = np.zeros((1,4))\n",
        "    self.activation_fun=activation_fun\n",
        "  \n",
        "  def activation(self, X):\n",
        "    \n",
        "    if self.activation_fun == 'sigmoid':\n",
        "        return 1.0/(1.0 + np.exp(-X))\n",
        "\n",
        "    elif self.activation_fun == 'tanh':\n",
        "        return np.tanh(X)\n",
        "  \n",
        "  def softmax(self, X):\n",
        "    exps = np.exp(X)\n",
        "    return exps / np.sum(exps, axis=1).reshape(-1,1)\n",
        "  \n",
        "  def forward_pass(self, X):\n",
        "    self.A1 = np.matmul(X,self.W1) + self.B1 # (N, 2) * (2, 2) -> (N, 2)\n",
        "    self.H1 = self.activation(self.A1 ) # (N, 2)\n",
        "    self.A2 = np.matmul(self.H1, self.W2) + self.B2 # (N, 2) * (2, 2) -> (N, 2)\n",
        "    self.H2 = self.activation(self.A2 ) # (N, 2)\n",
        "    self.A3 = np.matmul(self.H2, self.W3) + self.B3\n",
        "    self.H3 = self.softmax(self.A3) # (N, 4)\n",
        "    return self.H3\n",
        "    \n",
        "  def graddient(self, X):\n",
        "    \n",
        "    if self.activation_fun == 'sigmoid':\n",
        "        return X*(1-X)\n",
        "    elif self.activation_fun == 'tanh':\n",
        "        return (1 - np.square(X))\n",
        "  \n",
        "  def grad(self, X, Y):\n",
        "    self.forward_pass(X)\n",
        "    m = X.shape[0]\n",
        "    \n",
        "    self.dA3 = self.H3 - Y\n",
        "    self.dW3 = np.matmul(self.H2.T, self.dA3)\n",
        "    self.dB3 = np.sum(self.dA3, axis=0).reshape(1, -1)\n",
        "    self.dH2 = np.matmul(self.dA3, self.W3.T)\n",
        "    self.dA2 = np.multiply(self.dH2, self.graddient(self.H2)) # (N, 4) - (N, 4) -> (N, 4)\n",
        "    self.dW2 = np.matmul(self.H1.T, self.dA2) # (2, N) * (N, 4) -> (2, 4)\n",
        "    self.dB2 = np.sum(self.dA2, axis=0).reshape(1, -1) # (N, 4) -> (1, 4)\n",
        "    self.dH1 = np.matmul(self.dA2, self.W2.T) # (N, 4) * (4, 2) -> (N, 2)\n",
        "    self.dA1 = np.multiply(self.dH1, self.graddient(self.H1)) # (N, 2) .* (N, 2) -> (N, 2)\n",
        "    self.dW1 = np.matmul(X.T, self.dA1) # (2, N) * (N, 2) -> (2, 2)\n",
        "    self.dB1 = np.sum(self.dA1, axis=0).reshape(1, -1) # (N, 2) -> (1, 2)\n",
        "\n",
        "      \n",
        "  def fit(self, X, Y, epochs=1, learning_rate=1, display_loss=False):\n",
        "      \n",
        "    if display_loss:\n",
        "      loss = {}\n",
        "    \n",
        "    for i in tqdm_notebook(range(epochs), total=epochs, unit=\"epoch\"):\n",
        "      self.grad(X, Y) # X -> (N, 2), Y -> (N, 4)\n",
        "        \n",
        "      m = X.shape[0]\n",
        "      self.W3 -= learning_rate * (self.dW3/m)\n",
        "      self.B3 -= learning_rate * (self.dB3/m)\n",
        "      \n",
        "      self.W2 -= learning_rate * (self.dW2/m)\n",
        "      self.B2 -= learning_rate * (self.dB2/m)\n",
        "      self.W1 -= learning_rate * (self.dW1/m)\n",
        "      self.B1 -= learning_rate * (self.dB1/m)\n",
        "     \n",
        "      if display_loss:\n",
        "        Y_pred = self.predict(X)\n",
        "        loss[i] = log_loss(np.argmax(Y, axis=1), Y_pred)\n",
        "    \n",
        "    \n",
        "    if display_loss:\n",
        "      plt.plot(list(loss.values()))\n",
        "      plt.xlabel('Epochs')\n",
        "      plt.ylabel('Log Loss')\n",
        "      plt.show()\n",
        "      \n",
        "  \n",
        "  def predict(self, X):\n",
        "    Y_pred = self.forward_pass(X)\n",
        "    return np.array(Y_pred).squeeze()\n",
        "\n",
        "  \n"
      ],
      "execution_count": null,
      "outputs": []
    },
    {
      "cell_type": "code",
      "metadata": {
        "id": "gT4unpAz_NN-",
        "colab_type": "code",
        "colab": {}
      },
      "source": [
        "model = FF_MultiClass_InputWeightVectorised(activation_fun = 'sigmoid')"
      ],
      "execution_count": null,
      "outputs": []
    },
    {
      "cell_type": "code",
      "metadata": {
        "id": "zrlydQF__0aL",
        "colab_type": "code",
        "colab": {
          "base_uri": "https://localhost:8080/",
          "height": 331,
          "referenced_widgets": [
            "b1d3be73b4ac41248bad34637231869d",
            "e34f72871b3949e1b91ef99ba5bc7b4c",
            "7a63af5aa2a449f99288e829e22046d8",
            "995021e6d1e941fdb65af715ac743edf",
            "b25656aac4164eee940b278a2651a0ce",
            "1aa443ccaca742a48d741641efd8520c",
            "a0b4c82347494bdfa653282b287d03c4",
            "4be5251035144b54801214f2abc7ffd4"
          ]
        },
        "outputId": "00f9c25c-d03c-4be1-c401-cb9fb342f47d"
      },
      "source": [
        "model.fit(X_train,y_OH_train,epochs=2000,learning_rate=0.005,display_loss=True)"
      ],
      "execution_count": null,
      "outputs": [
        {
          "output_type": "display_data",
          "data": {
            "application/vnd.jupyter.widget-view+json": {
              "model_id": "b1d3be73b4ac41248bad34637231869d",
              "version_minor": 0,
              "version_major": 2
            },
            "text/plain": [
              "HBox(children=(FloatProgress(value=0.0, max=2000.0), HTML(value='')))"
            ]
          },
          "metadata": {
            "tags": []
          }
        },
        {
          "output_type": "stream",
          "text": [
            "\n"
          ],
          "name": "stdout"
        },
        {
          "output_type": "display_data",
          "data": {
            "image/png": "[encoded data removed]",
            "text/plain": [
              "<Figure size 432x288 with 1 Axes>"
            ]
          },
          "metadata": {
            "tags": [],
            "needs_background": "light"
          }
        }
      ]
    },
    {
      "cell_type": "code",
      "metadata": {
        "id": "7RTgk8LQwhAa",
        "colab_type": "code",
        "colab": {
          "base_uri": "https://localhost:8080/",
          "height": 255
        },
        "outputId": "7f9a3354-c3aa-4258-82f4-4d13d962fdd1"
      },
      "source": [
        "models_init = [FF_MultiClass_Scalar(W1, W2), FF_MultiClass_WeightVectorised(W1, W2),FF_MultiClass_InputWeightVectorised(W1, W2,activation_fun='sigmoid')]\n",
        "models = []\n",
        "for idx, model in enumerate(models_init, start=1):\n",
        "  tic = time.time()\n",
        "  ffsn_multi_specific = model\n",
        "  ffsn_multi_specific.fit(X_train,y_OH_train,epochs=2000,learning_rate=0.5,display_loss=True)\n",
        "  models.append(ffsn_multi_specific)\n",
        "  toc = time.time()\n",
        "  print(\"Time taken by model {}: {}\".format(idx, toc-tic))"
      ],
      "execution_count": null,
      "outputs": [
        {
          "output_type": "error",
          "ename": "TypeError",
          "evalue": "ignored",
          "traceback": [
            "\u001b[0;31m---------------------------------------------------------------------------\u001b[0m",
            "\u001b[0;31mTypeError\u001b[0m                                 Traceback (most recent call last)",
            "\u001b[0;32m<ipython-input-19-68eff4b9a155>\u001b[0m in \u001b[0;36m<module>\u001b[0;34m()\u001b[0m\n\u001b[0;32m----> 1\u001b[0;31m \u001b[0mmodels_init\u001b[0m \u001b[0;34m=\u001b[0m \u001b[0;34m[\u001b[0m\u001b[0mFF_MultiClass_Scalar\u001b[0m\u001b[0;34m(\u001b[0m\u001b[0mW1\u001b[0m\u001b[0;34m,\u001b[0m \u001b[0mW2\u001b[0m\u001b[0;34m)\u001b[0m\u001b[0;34m,\u001b[0m \u001b[0mFF_MultiClass_WeightVectorised\u001b[0m\u001b[0;34m(\u001b[0m\u001b[0mW1\u001b[0m\u001b[0;34m,\u001b[0m \u001b[0mW2\u001b[0m\u001b[0;34m)\u001b[0m\u001b[0;34m,\u001b[0m\u001b[0mFF_MultiClass_InputWeightVectorised\u001b[0m\u001b[0;34m(\u001b[0m\u001b[0mW1\u001b[0m\u001b[0;34m,\u001b[0m \u001b[0mW2\u001b[0m\u001b[0;34m,\u001b[0m\u001b[0mactivation_fun\u001b[0m\u001b[0;34m=\u001b[0m\u001b[0;34m'sigmoid'\u001b[0m\u001b[0;34m)\u001b[0m\u001b[0;34m]\u001b[0m\u001b[0;34m\u001b[0m\u001b[0;34m\u001b[0m\u001b[0m\n\u001b[0m\u001b[1;32m      2\u001b[0m \u001b[0mmodels\u001b[0m \u001b[0;34m=\u001b[0m \u001b[0;34m[\u001b[0m\u001b[0;34m]\u001b[0m\u001b[0;34m\u001b[0m\u001b[0;34m\u001b[0m\u001b[0m\n\u001b[1;32m      3\u001b[0m \u001b[0;32mfor\u001b[0m \u001b[0midx\u001b[0m\u001b[0;34m,\u001b[0m \u001b[0mmodel\u001b[0m \u001b[0;32min\u001b[0m \u001b[0menumerate\u001b[0m\u001b[0;34m(\u001b[0m\u001b[0mmodels_init\u001b[0m\u001b[0;34m,\u001b[0m \u001b[0mstart\u001b[0m\u001b[0;34m=\u001b[0m\u001b[0;36m1\u001b[0m\u001b[0;34m)\u001b[0m\u001b[0;34m:\u001b[0m\u001b[0;34m\u001b[0m\u001b[0;34m\u001b[0m\u001b[0m\n\u001b[1;32m      4\u001b[0m   \u001b[0mtic\u001b[0m \u001b[0;34m=\u001b[0m \u001b[0mtime\u001b[0m\u001b[0;34m.\u001b[0m\u001b[0mtime\u001b[0m\u001b[0;34m(\u001b[0m\u001b[0;34m)\u001b[0m\u001b[0;34m\u001b[0m\u001b[0;34m\u001b[0m\u001b[0m\n\u001b[1;32m      5\u001b[0m   \u001b[0mffsn_multi_specific\u001b[0m \u001b[0;34m=\u001b[0m \u001b[0mmodel\u001b[0m\u001b[0;34m\u001b[0m\u001b[0;34m\u001b[0m\u001b[0m\n",
            "\u001b[0;31mTypeError\u001b[0m: __init__() got multiple values for argument 'activation_fun'"
          ]
        }
      ]
    },
    {
      "cell_type": "markdown",
      "metadata": {
        "id": "888o4jP1i84A",
        "colab_type": "text"
      },
      "source": [
        "#Using Tensorflow"
      ]
    },
    {
      "cell_type": "code",
      "metadata": {
        "id": "06YCAMeii8XO",
        "colab_type": "code",
        "colab": {
          "base_uri": "https://localhost:8080/",
          "height": 541
        },
        "outputId": "3ef6ed71-b3f1-4b63-efbf-8f90ebec638d"
      },
      "source": [
        "import tensorflow as tf\n",
        "\n",
        "model = tf.keras.Sequential([tf.keras.layers.Flatten(),\n",
        "                             tf.keras.layers.Dense(128,activation = 'sigmoid'),\n",
        "                             tf.keras.layers.Dense(4 , activation = 'softmax')\n",
        "])\n",
        "\n",
        "model.compile(optimizer= tf.optimizers.Adam(), loss='sparse_categorical_crossentropy',metrics=['accuracy'])\n",
        "history = model.fit(X_train , Y_train, epochs = 1000,validation_data=(X_val, Y_val), verbose=0)\n",
        "\n",
        "def plot_graphs(history, string):\n",
        "  plt.plot(history.history[string])\n",
        "  plt.plot(history.history['val_'+string])\n",
        "  plt.xlabel(\"Epochs\")\n",
        "  plt.ylabel(string)\n",
        "  plt.legend([string, 'val_'+string])\n",
        "  plt.show()\n",
        "  \n",
        "plot_graphs(history, \"accuracy\")\n",
        "plot_graphs(history, \"loss\")\n",
        "\n",
        "\n"
      ],
      "execution_count": null,
      "outputs": [
        {
          "output_type": "display_data",
          "data": {
            "image/png": "[encoded data removed]",
            "text/plain": [
              "<Figure size 432x288 with 1 Axes>"
            ]
          },
          "metadata": {
            "tags": [],
            "needs_background": "light"
          }
        },
        {
          "output_type": "display_data",
          "data": {
            "image/png": "[encoded data removed]",
            "text/plain": [
              "<Figure size 432x288 with 1 Axes>"
            ]
          },
          "metadata": {
            "tags": [],
            "needs_background": "light"
          }
        }
      ]
    },
    {
      "cell_type": "markdown",
      "metadata": {
        "id": "_KAGmENsHQl1",
        "colab_type": "text"
      },
      "source": [
        "#NeuralNet by Pytorch"
      ]
    },
    {
      "cell_type": "code",
      "metadata": {
        "id": "BYtCJWofDyIE",
        "colab_type": "code",
        "colab": {}
      },
      "source": [
        "class neuralnet(nn.Module):\n",
        "    def __init__(self):\n",
        "        super().__init__()\n",
        "        torch.manual_seed(0)\n",
        "        self.net = nn.Sequential(nn.Linear(2,64),\n",
        "                                 nn.Sigmoid(),\n",
        "                                 nn.Linear(64,64),\n",
        "                                 nn.Sigmoid(),\n",
        "                                 nn.Linear(64,4),\n",
        "                                 nn.Softmax())\n",
        "        \n",
        "    def forward(self ,X):\n",
        "        return self.net(X)\n",
        "\n",
        "\n"
      ],
      "execution_count": null,
      "outputs": []
    },
    {
      "cell_type": "code",
      "metadata": {
        "id": "sW0JnpTgfXs-",
        "colab_type": "code",
        "colab": {}
      },
      "source": [
        "def fit_V1(x =X_train.float() , y=Y_train.long(), model = neuralnet(), opt = optim.Adam(fn.parameters() ,lr = 0.02), loss_fn = F.cross_entropy, epochs=1000):\n",
        "    l = []\n",
        "    for epoch in range(epochs): \n",
        "\n",
        "        loss = loss_fn(model(x),y)\n",
        "        loss.backward()\n",
        "        opt.step()\n",
        "        opt.zero_grad()\n",
        "        l.append(loss)\n",
        "    plt.plot(l)\n",
        "    plt.show()\n",
        "\n",
        "    return loss.item()\n"
      ],
      "execution_count": null,
      "outputs": []
    },
    {
      "cell_type": "code",
      "metadata": {
        "id": "6wx8HDJ7gzJq",
        "colab_type": "code",
        "colab": {}
      },
      "source": [
        "fn = neuralnet()\n",
        "loss_fn = F.cross_entropy\n",
        "opt = optim.Adam(fn.parameters() ,lr = 0.02)\n",
        "\n",
        "X_train = X_train.float()\n",
        "Y_train = Y_train.long()"
      ],
      "execution_count": null,
      "outputs": []
    },
    {
      "cell_type": "code",
      "metadata": {
        "id": "5-tj5rEIhuHU",
        "colab_type": "code",
        "colab": {
          "base_uri": "https://localhost:8080/",
          "height": 283
        },
        "outputId": "45807328-354e-4099-d727-8e810179e247"
      },
      "source": [
        "fit_V1(X_train,Y_train,  fn, opt, loss_fn, epochs = 100)"
      ],
      "execution_count": null,
      "outputs": [
        {
          "output_type": "display_data",
          "data": {
            "image/png": "[encoded data removed]",
            "text/plain": [
              "<Figure size 432x288 with 1 Axes>"
            ]
          },
          "metadata": {
            "tags": [],
            "needs_background": "light"
          }
        },
        {
          "output_type": "execute_result",
          "data": {
            "text/plain": [
              "0.8110952377319336"
            ]
          },
          "metadata": {
            "tags": []
          },
          "execution_count": 52
        }
      ]
    },
    {
      "cell_type": "code",
      "metadata": {
        "id": "vLO-rlE4mHrW",
        "colab_type": "code",
        "colab": {}
      },
      "source": [
        ""
      ],
      "execution_count": null,
      "outputs": []
    }
  ]
}